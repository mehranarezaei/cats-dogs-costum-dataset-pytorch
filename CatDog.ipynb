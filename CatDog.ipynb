{
  "nbformat": 4,
  "nbformat_minor": 0,
  "metadata": {
    "colab": {
      "provenance": []
    },
    "kernelspec": {
      "name": "python3",
      "display_name": "Python 3"
    },
    "language_info": {
      "name": "python"
    }
  },
  "cells": [
    {
      "cell_type": "markdown",
      "source": [
        "Install Dependencies & Download Data"
      ],
      "metadata": {
        "id": "InhtSQSXWJuE"
      }
    },
    {
      "cell_type": "code",
      "source": [
        "!pip install gdown unzip\n",
        "\n",
        "# Download from Google Drive\n",
        "!gdown 1fuFurVV8rcrVTAFPjhQvzGLNdnTi1jWZ\n",
        "\n",
        "# Unzip without verbose output\n",
        "!unzip -q CATS_DOGS.zip"
      ],
      "metadata": {
        "colab": {
          "base_uri": "https://localhost:8080/"
        },
        "id": "9hjB4yEAqY1d",
        "outputId": "cc59afdd-6eac-43bd-8e6a-068653955247"
      },
      "execution_count": 13,
      "outputs": [
        {
          "metadata": {
            "tags": null
          },
          "name": "stdout",
          "output_type": "stream",
          "text": [
            "Requirement already satisfied: gdown in /usr/local/lib/python3.11/dist-packages (5.2.0)\n",
            "Requirement already satisfied: unzip in /usr/local/lib/python3.11/dist-packages (1.0.0)\n",
            "Requirement already satisfied: beautifulsoup4 in /usr/local/lib/python3.11/dist-packages (from gdown) (4.13.4)\n",
            "Requirement already satisfied: filelock in /usr/local/lib/python3.11/dist-packages (from gdown) (3.18.0)\n",
            "Requirement already satisfied: requests[socks] in /usr/local/lib/python3.11/dist-packages (from gdown) (2.32.3)\n",
            "Requirement already satisfied: tqdm in /usr/local/lib/python3.11/dist-packages (from gdown) (4.67.1)\n",
            "Requirement already satisfied: soupsieve>1.2 in /usr/local/lib/python3.11/dist-packages (from beautifulsoup4->gdown) (2.7)\n",
            "Requirement already satisfied: typing-extensions>=4.0.0 in /usr/local/lib/python3.11/dist-packages (from beautifulsoup4->gdown) (4.14.1)\n",
            "Requirement already satisfied: charset-normalizer<4,>=2 in /usr/local/lib/python3.11/dist-packages (from requests[socks]->gdown) (3.4.2)\n",
            "Requirement already satisfied: idna<4,>=2.5 in /usr/local/lib/python3.11/dist-packages (from requests[socks]->gdown) (3.10)\n",
            "Requirement already satisfied: urllib3<3,>=1.21.1 in /usr/local/lib/python3.11/dist-packages (from requests[socks]->gdown) (2.5.0)\n",
            "Requirement already satisfied: certifi>=2017.4.17 in /usr/local/lib/python3.11/dist-packages (from requests[socks]->gdown) (2025.7.14)\n",
            "Requirement already satisfied: PySocks!=1.5.7,>=1.5.6 in /usr/local/lib/python3.11/dist-packages (from requests[socks]->gdown) (1.7.1)\n",
            "Downloading...\n",
            "From (original): https://drive.google.com/uc?id=1fuFurVV8rcrVTAFPjhQvzGLNdnTi1jWZ\n",
            "From (redirected): https://drive.google.com/uc?id=1fuFurVV8rcrVTAFPjhQvzGLNdnTi1jWZ&confirm=t&uuid=308a6acd-c1ae-4b47-a49e-566503a0dff6\n",
            "To: /content/CATS_DOGS.zip\n",
            "100% 812M/812M [00:16<00:00, 50.6MB/s]\n",
            "replace CATS_DOGS/test/CAT/10000.jpg? [y]es, [n]o, [A]ll, [N]one, [r]ename: "
          ]
        }
      ]
    },
    {
      "cell_type": "markdown",
      "source": [
        "Imports"
      ],
      "metadata": {
        "id": "fC7bhsSFWkCI"
      }
    },
    {
      "cell_type": "code",
      "source": [
        "import os\n",
        "from PIL import Image\n",
        "from torch.utils.data import Dataset\n",
        "import torchvision.transforms as transforms"
      ],
      "metadata": {
        "id": "avLCuHvaWmY2"
      },
      "execution_count": null,
      "outputs": []
    },
    {
      "cell_type": "markdown",
      "source": [
        "Collect All Image Paths"
      ],
      "metadata": {
        "id": "4jUHrzGqWyL8"
      }
    },
    {
      "cell_type": "code",
      "source": [
        "train_dir = 'CATS_DOGS/train'\n",
        "img_paths = []\n",
        "for root, dirs, files in os.walk(train_dir):\n",
        "    for fname in files:\n",
        "        if fname.lower().endswith(('jpg', 'jpeg', 'png', 'bmp', 'gif')):\n",
        "            img_paths.append(os.path.join(root, fname))\n",
        "\n",
        "print(f\"Found {len(img_paths)} images in {train_dir}.\")"
      ],
      "metadata": {
        "colab": {
          "base_uri": "https://localhost:8080/"
        },
        "id": "JALhwxE4sl3I",
        "outputId": "ddbb21da-dc8c-44a6-dbc4-e2a74d7777f5"
      },
      "execution_count": null,
      "outputs": [
        {
          "output_type": "stream",
          "name": "stdout",
          "text": [
            "Found 18743 images in CATS_DOGS/train.\n"
          ]
        }
      ]
    },
    {
      "cell_type": "markdown",
      "source": [
        "Define CatDogDataset"
      ],
      "metadata": {
        "id": "wj9OqtqUW8n7"
      }
    },
    {
      "cell_type": "code",
      "source": [
        "class CatDogDataset(Dataset):\n",
        "    def __init__(self, image_paths, transform=None):\n",
        "        \"\"\"\n",
        "        image_paths: list of full image file paths\n",
        "        transform: torchvision transforms (default: ToTensor)\n",
        "        \"\"\"\n",
        "        self.image_paths = image_paths\n",
        "        self.transform = transform if transform is not None else transforms.ToTensor()\n",
        "\n",
        "    def __len__(self):\n",
        "        return len(self.image_paths)\n",
        "\n",
        "    def __getitem__(self, idx):\n",
        "        # Load image and convert to RGB\n",
        "        path = self.image_paths[idx]\n",
        "        image = Image.open(path).convert('RGB')\n",
        "\n",
        "        # Apply transform to get a tensor\n",
        "        image_tensor = self.transform(image)\n",
        "\n",
        "        # Label = 0 if folder contains 'cat', else 1\n",
        "        label = 0 if 'cat' in os.path.basename(os.path.dirname(path)).lower() else 1\n",
        "\n",
        "        return image_tensor, label"
      ],
      "metadata": {
        "id": "1uxIoaUHwN_S"
      },
      "execution_count": null,
      "outputs": []
    },
    {
      "cell_type": "markdown",
      "source": [
        "Instantiate & Test\n"
      ],
      "metadata": {
        "id": "oEQhggkqXMQE"
      }
    },
    {
      "cell_type": "code",
      "source": [
        "dataset = CatDogDataset(img_paths)\n",
        "dataset[0] # e.g., (tensor([...]), 0 or 1)"
      ],
      "metadata": {
        "colab": {
          "base_uri": "https://localhost:8080/"
        },
        "id": "-Z4v8IKQJHzj",
        "outputId": "dc0ccc39-905a-43fc-b581-3080c01617af"
      },
      "execution_count": 20,
      "outputs": [
        {
          "output_type": "execute_result",
          "data": {
            "text/plain": [
              "(tensor([[[0.9961, 0.9804, 0.9569,  ..., 0.4706, 0.4275, 0.3373],\n",
              "          [0.9647, 0.9686, 0.9529,  ..., 0.4431, 0.4588, 0.4314],\n",
              "          [0.9608, 0.9882, 0.9804,  ..., 0.3608, 0.4353, 0.4824],\n",
              "          ...,\n",
              "          [0.4902, 0.4941, 0.5059,  ..., 0.4275, 0.4235, 0.4235],\n",
              "          [0.4863, 0.5020, 0.5373,  ..., 0.4314, 0.4275, 0.4235],\n",
              "          [0.4863, 0.4980, 0.5333,  ..., 0.4314, 0.4275, 0.4275]],\n",
              " \n",
              "         [[1.0000, 1.0000, 0.9882,  ..., 0.4392, 0.3961, 0.3059],\n",
              "          [0.9804, 0.9961, 0.9843,  ..., 0.4196, 0.4353, 0.4078],\n",
              "          [0.9804, 1.0000, 1.0000,  ..., 0.3647, 0.4392, 0.4863],\n",
              "          ...,\n",
              "          [0.4863, 0.4902, 0.5020,  ..., 0.4667, 0.4627, 0.4627],\n",
              "          [0.4824, 0.4980, 0.5373,  ..., 0.4706, 0.4667, 0.4627],\n",
              "          [0.4745, 0.4863, 0.5216,  ..., 0.4706, 0.4667, 0.4667]],\n",
              " \n",
              "         [[0.9451, 0.9451, 0.9373,  ..., 0.4902, 0.4392, 0.3490],\n",
              "          [0.9137, 0.9255, 0.9333,  ..., 0.4588, 0.4745, 0.4471],\n",
              "          [0.9020, 0.9373, 0.9529,  ..., 0.3843, 0.4588, 0.5059],\n",
              "          ...,\n",
              "          [0.4706, 0.4745, 0.4824,  ..., 0.5059, 0.5020, 0.5020],\n",
              "          [0.4667, 0.4784, 0.5059,  ..., 0.5098, 0.5059, 0.5020],\n",
              "          [0.4549, 0.4667, 0.4941,  ..., 0.5176, 0.5137, 0.5137]]]),\n",
              " 1)"
            ]
          },
          "metadata": {},
          "execution_count": 20
        }
      ]
    },
    {
      "cell_type": "code",
      "source": [
        "dataset[-1]  # e.g., (tensor([...]), 0 or 1)"
      ],
      "metadata": {
        "id": "bRnzHK4VJzvn",
        "colab": {
          "base_uri": "https://localhost:8080/"
        },
        "outputId": "9b5057f1-eae2-44ae-9842-db4185538c11"
      },
      "execution_count": 19,
      "outputs": [
        {
          "output_type": "execute_result",
          "data": {
            "text/plain": [
              "(tensor([[[0.2627, 0.2627, 0.2627,  ..., 0.3686, 0.3725, 0.3608],\n",
              "          [0.2627, 0.2627, 0.2627,  ..., 0.3647, 0.3569, 0.3412],\n",
              "          [0.2627, 0.2627, 0.2627,  ..., 0.3529, 0.3333, 0.3059],\n",
              "          ...,\n",
              "          [0.0392, 0.0392, 0.0431,  ..., 0.4745, 0.4667, 0.4627],\n",
              "          [0.0431, 0.0431, 0.0471,  ..., 0.4706, 0.4627, 0.4588],\n",
              "          [0.0510, 0.0510, 0.0510,  ..., 0.4706, 0.4588, 0.4510]],\n",
              " \n",
              "         [[0.1294, 0.1294, 0.1294,  ..., 0.2510, 0.2549, 0.2431],\n",
              "          [0.1294, 0.1294, 0.1294,  ..., 0.2471, 0.2392, 0.2235],\n",
              "          [0.1294, 0.1294, 0.1294,  ..., 0.2431, 0.2235, 0.1961],\n",
              "          ...,\n",
              "          [0.0431, 0.0431, 0.0471,  ..., 0.4118, 0.4039, 0.4000],\n",
              "          [0.0471, 0.0471, 0.0510,  ..., 0.4078, 0.4000, 0.3961],\n",
              "          [0.0549, 0.0549, 0.0549,  ..., 0.4000, 0.3882, 0.3804]],\n",
              " \n",
              "         [[0.0314, 0.0314, 0.0314,  ..., 0.1490, 0.1529, 0.1412],\n",
              "          [0.0314, 0.0314, 0.0314,  ..., 0.1451, 0.1373, 0.1216],\n",
              "          [0.0314, 0.0314, 0.0314,  ..., 0.1490, 0.1294, 0.1020],\n",
              "          ...,\n",
              "          [0.0510, 0.0510, 0.0549,  ..., 0.3137, 0.3059, 0.3020],\n",
              "          [0.0549, 0.0549, 0.0588,  ..., 0.3098, 0.3020, 0.2980],\n",
              "          [0.0627, 0.0627, 0.0627,  ..., 0.3059, 0.2941, 0.2863]]]),\n",
              " 0)"
            ]
          },
          "metadata": {},
          "execution_count": 19
        }
      ]
    },
    {
      "cell_type": "code",
      "source": [],
      "metadata": {
        "id": "ZsTVNsjFaXTg"
      },
      "execution_count": null,
      "outputs": []
    }
  ]
}